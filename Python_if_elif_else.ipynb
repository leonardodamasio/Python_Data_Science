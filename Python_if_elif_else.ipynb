{
 "cells": [
  {
   "cell_type": "code",
   "execution_count": null,
   "metadata": {},
   "outputs": [],
   "source": [
    "nome= str(input(\"Digite seu nome:\\n\"))\n",
    "idade = int(input(\"\\nDigite sua idade:\\n\"))\n",
    "\n",
    "print(\"\\n{0}, sua idade é {1} anos.\".format(nome, idade))\n",
    "\n",
    "if idade >= 18:\n",
    "    \n",
    "    def func():\n",
    "        cnh = input(\"\\nVocê já tirou sua habilitação? (s/n)\\n\")\n",
    "    \n",
    "        if (cnh == \"s\") or (cnh == \"n\"):\n",
    "\n",
    "            if cnh == \"s\":\n",
    "                print(\"\\nEntão, você já pode dirigir.\")\n",
    "\n",
    "            elif cnh == \"n\":\n",
    "                print(\"\\nVocê ainda não pode dirigir. Primeiro é necessário ser habilitado.\")\n",
    "\n",
    "        else:\n",
    "            cnh == print(\"\\nDigite um valor válido! (s/n)\")\n",
    "            func()\n",
    "    \n",
    "    func()\n",
    "    \n",
    "else:\n",
    "    print(\"\\nVocê ainda não pode dirigir.\")"
   ]
  }
 ],
 "metadata": {
  "kernelspec": {
   "display_name": "Python 3",
   "language": "python",
   "name": "python3"
  },
  "language_info": {
   "codemirror_mode": {
    "name": "ipython",
    "version": 3
   },
   "file_extension": ".py",
   "mimetype": "text/x-python",
   "name": "python",
   "nbconvert_exporter": "python",
   "pygments_lexer": "ipython3",
   "version": "3.6.5"
  }
 },
 "nbformat": 4,
 "nbformat_minor": 2
}
