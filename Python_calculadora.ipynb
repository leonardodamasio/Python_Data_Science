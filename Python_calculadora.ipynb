{
 "cells": [
  {
   "cell_type": "code",
   "execution_count": 1,
   "metadata": {},
   "outputs": [
    {
     "name": "stdout",
     "output_type": "stream",
     "text": [
      "\n",
      "******************** Calculadora Python ********************\n",
      "\n",
      "Digite o número da operação desejada:\n",
      "\n",
      "1 - Soma \n",
      "2 - Subtração \n",
      "3 - Multiplicação \n",
      "4 - Divisão\n",
      "\n",
      "Digite sua opção (1/2/3/4): 5\n",
      "\n",
      "Opção inválida!\n"
     ]
    }
   ],
   "source": [
    "print(\"\\n******************** Calculadora Python ********************\\n\\nDigite o número da operação desejada:\\n\\n1 - Soma \\n2 - Subtração \\n3 - Multiplicação \\n4 - Divisão\\n\")\n",
    "\n",
    "operacoes = (1, 2, 3, 4)\n",
    "operacao = int(input(\"Digite sua opção (1/2/3/4): \"))\n",
    "\n",
    "if operacao in operacoes:\n",
    "\n",
    "    num1 = float(input(\"\\nDigite o primeiro número: \"))\n",
    "    num2 = float(input(\"\\nDigite o segundo número: \"))\n",
    "\n",
    "    if operacao == 1:\n",
    "        resultado = num1+num2\n",
    "        print(\"\\n\", num1, \" + \", num2, \" = \", resultado)\n",
    "\n",
    "    elif operacao == 2:\n",
    "        resultado = num1-num2\n",
    "        print(\"\\n\", num1, \" - \", num2, \" = \", resultado)\n",
    "\n",
    "    elif operacao == 3:\n",
    "        resultado = num1*num2\n",
    "        print(\"\\n\", num1, \" * \", num2, \" = \", resultado)\n",
    "\n",
    "    elif operacao == 4:\n",
    "        resultado = num1/num2\n",
    "        print(\"\\n\", num1, \" / \", num2, \" = \", resultado)\n",
    "\n",
    "else:\n",
    "    print(\"\\nOpção inválida!\")\n"
   ]
  },
  {
   "cell_type": "code",
   "execution_count": null,
   "metadata": {},
   "outputs": [],
   "source": []
  }
 ],
 "metadata": {
  "kernelspec": {
   "display_name": "Python 3",
   "language": "python",
   "name": "python3"
  },
  "language_info": {
   "codemirror_mode": {
    "name": "ipython",
    "version": 3
   },
   "file_extension": ".py",
   "mimetype": "text/x-python",
   "name": "python",
   "nbconvert_exporter": "python",
   "pygments_lexer": "ipython3",
   "version": "3.6.5"
  }
 },
 "nbformat": 4,
 "nbformat_minor": 2
}
